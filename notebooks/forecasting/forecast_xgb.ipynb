{
 "cells": [
  {
   "cell_type": "code",
   "execution_count": 323,
   "metadata": {},
   "outputs": [],
   "source": [
    "import pandas as pd\n",
    "\n",
    "df_clean = pd.read_parquet('../../data/processed/df_forecast.parquet')"
   ]
  },
  {
   "cell_type": "code",
   "execution_count": 324,
   "metadata": {},
   "outputs": [
    {
     "name": "stdout",
     "output_type": "stream",
     "text": [
      "<class 'pandas.core.frame.DataFrame'>\n",
      "RangeIndex: 15410 entries, 0 to 15409\n",
      "Data columns (total 9 columns):\n",
      " #   Column           Non-Null Count  Dtype  \n",
      "---  ------           --------------  -----  \n",
      " 0   event_cultural   15410 non-null  float64\n",
      " 1   event_national   15410 non-null  float64\n",
      " 2   event_religious  15410 non-null  float64\n",
      " 3   event_sport      15410 non-null  float64\n",
      " 4   day_of_year      15410 non-null  int32  \n",
      " 5   day_of_week      15410 non-null  int32  \n",
      " 6   month            15410 non-null  int32  \n",
      " 7   year             15410 non-null  int32  \n",
      " 8   revenue          15410 non-null  float64\n",
      "dtypes: float64(5), int32(4)\n",
      "memory usage: 842.9 KB\n"
     ]
    }
   ],
   "source": [
    "df_clean.info()"
   ]
  },
  {
   "cell_type": "code",
   "execution_count": 325,
   "metadata": {},
   "outputs": [],
   "source": [
    "from sklearn.ensemble import HistGradientBoostingRegressor\n",
    "from sklearn.ensemble import RandomForestRegressor\n",
    "\n",
    "rf = HistGradientBoostingRegressor(max_iter=10\n",
    "                            , learning_rate=0.1\n",
    "                            , max_depth=None\n",
    "                            , max_leaf_nodes = 100\n",
    "                            #, subsample = 0.9\n",
    "                            , min_samples_leaf = 1\n",
    "                            , n_iter_no_change = 500\n",
    "                            , verbose=1)\n"
   ]
  },
  {
   "cell_type": "markdown",
   "metadata": {},
   "source": [
    "#### Traing regression model in chunks"
   ]
  },
  {
   "cell_type": "code",
   "execution_count": 326,
   "metadata": {},
   "outputs": [
    {
     "name": "stdout",
     "output_type": "stream",
     "text": [
      "Binning 0.001 GB of training data: 0.004 s\n",
      "Binning 0.000 GB of validation data: 0.000 s\n",
      "Fitting gradient boosted rounds:\n",
      "[1/10] 1 tree, 100 leaves, max depth = 12, train loss: 6403058.81663, val loss: 6260463.37591, in 0.025s\n",
      "[2/10] 1 tree, 100 leaves, max depth = 13, train loss: 6088558.33931, val loss: 5978342.61860, in 0.023s\n",
      "[3/10] 1 tree, 100 leaves, max depth = 12, train loss: 5833615.88112, val loss: 5750527.12406, in 0.024s\n",
      "[4/10] 1 tree, 100 leaves, max depth = 13, train loss: 5625411.74319, val loss: 5570969.12041, in 0.024s\n",
      "[5/10] 1 tree, 100 leaves, max depth = 13, train loss: 5455711.36070, val loss: 5428756.71794, in 0.032s\n",
      "[6/10] "
     ]
    },
    {
     "name": "stdout",
     "output_type": "stream",
     "text": [
      "1 tree, 100 leaves, max depth = 13, train loss: 5316252.79131, val loss: 5311756.85521, in 0.026s\n",
      "[7/10] 1 tree, 100 leaves, max depth = 13, train loss: 5202453.45007, val loss: 5216637.79396, in 0.033s\n",
      "[8/10] 1 tree, 100 leaves, max depth = 14, train loss: 5107334.10975, val loss: 5140302.04591, in 0.024s\n",
      "[9/10] 1 tree, 100 leaves, max depth = 15, train loss: 5029450.54981, val loss: 5083577.96845, in 0.029s\n",
      "[10/10] 1 tree, 100 leaves, max depth = 16, train loss: 4961680.39556, val loss: 5041044.31291, in 0.028s\n",
      "Fit 10 trees in 0.283 s, (1000 total leaves)\n",
      "Time spent computing histograms: 0.100s\n",
      "Time spent finding best splits:  0.035s\n",
      "Time spent applying splits:      0.054s\n",
      "Time spent predicting:           0.002s\n",
      "{'categorical_features': None, 'early_stopping': 'auto', 'interaction_cst': None, 'l2_regularization': 0.0, 'learning_rate': 0.1, 'loss': 'squared_error', 'max_bins': 255, 'max_depth': None, 'max_iter': 10, 'max_leaf_nodes': 100, 'min_samples_leaf': 1, 'monotonic_cst': None, 'n_iter_no_change': 500, 'quantile': None, 'random_state': None, 'scoring': 'loss', 'tol': 1e-07, 'validation_fraction': 0.1, 'verbose': 1, 'warm_start': False}\n"
     ]
    }
   ],
   "source": [
    "import pandas as pd\n",
    "from sklearn.model_selection import train_test_split\n",
    "\n",
    "target = df_clean.pop('revenue')\n",
    "x_train, x_test, y_train, y_test = train_test_split(df_clean, target, test_size=0.2, random_state=8)\n",
    "\n",
    "rf.fit(x_train, y_train)\n",
    "print(rf.get_params())\n",
    "\n",
    "\n"
   ]
  },
  {
   "cell_type": "code",
   "execution_count": 327,
   "metadata": {},
   "outputs": [
    {
     "data": {
      "text/plain": [
       "['../../models/predictive/forecast.joblib']"
      ]
     },
     "execution_count": 327,
     "metadata": {},
     "output_type": "execute_result"
    }
   ],
   "source": [
    "from joblib import dump\n",
    "dump(rf, '../../models/predictive/forecast.joblib')"
   ]
  },
  {
   "cell_type": "code",
   "execution_count": 328,
   "metadata": {},
   "outputs": [
    {
     "data": {
      "text/html": [
       "<div>\n",
       "<style scoped>\n",
       "    .dataframe tbody tr th:only-of-type {\n",
       "        vertical-align: middle;\n",
       "    }\n",
       "\n",
       "    .dataframe tbody tr th {\n",
       "        vertical-align: top;\n",
       "    }\n",
       "\n",
       "    .dataframe thead th {\n",
       "        text-align: right;\n",
       "    }\n",
       "</style>\n",
       "<table border=\"1\" class=\"dataframe\">\n",
       "  <thead>\n",
       "    <tr style=\"text-align: right;\">\n",
       "      <th></th>\n",
       "      <th>event_cultural</th>\n",
       "      <th>event_national</th>\n",
       "      <th>event_religious</th>\n",
       "      <th>event_sport</th>\n",
       "      <th>day_of_year</th>\n",
       "      <th>day_of_week</th>\n",
       "      <th>month</th>\n",
       "      <th>year</th>\n",
       "    </tr>\n",
       "  </thead>\n",
       "  <tbody>\n",
       "    <tr>\n",
       "      <th>1550</th>\n",
       "      <td>0.0</td>\n",
       "      <td>0.0</td>\n",
       "      <td>0.0</td>\n",
       "      <td>0.0</td>\n",
       "      <td>4</td>\n",
       "      <td>4</td>\n",
       "      <td>1</td>\n",
       "      <td>2013</td>\n",
       "    </tr>\n",
       "    <tr>\n",
       "      <th>7599</th>\n",
       "      <td>0.0</td>\n",
       "      <td>0.0</td>\n",
       "      <td>1.0</td>\n",
       "      <td>0.0</td>\n",
       "      <td>55</td>\n",
       "      <td>6</td>\n",
       "      <td>2</td>\n",
       "      <td>2013</td>\n",
       "    </tr>\n",
       "    <tr>\n",
       "      <th>11780</th>\n",
       "      <td>0.0</td>\n",
       "      <td>0.0</td>\n",
       "      <td>0.0</td>\n",
       "      <td>0.0</td>\n",
       "      <td>253</td>\n",
       "      <td>6</td>\n",
       "      <td>9</td>\n",
       "      <td>2012</td>\n",
       "    </tr>\n",
       "    <tr>\n",
       "      <th>4640</th>\n",
       "      <td>0.0</td>\n",
       "      <td>0.0</td>\n",
       "      <td>0.0</td>\n",
       "      <td>0.0</td>\n",
       "      <td>6</td>\n",
       "      <td>1</td>\n",
       "      <td>1</td>\n",
       "      <td>2015</td>\n",
       "    </tr>\n",
       "    <tr>\n",
       "      <th>1483</th>\n",
       "      <td>0.0</td>\n",
       "      <td>1.0</td>\n",
       "      <td>0.0</td>\n",
       "      <td>0.0</td>\n",
       "      <td>147</td>\n",
       "      <td>0</td>\n",
       "      <td>5</td>\n",
       "      <td>2013</td>\n",
       "    </tr>\n",
       "    <tr>\n",
       "      <th>...</th>\n",
       "      <td>...</td>\n",
       "      <td>...</td>\n",
       "      <td>...</td>\n",
       "      <td>...</td>\n",
       "      <td>...</td>\n",
       "      <td>...</td>\n",
       "      <td>...</td>\n",
       "      <td>...</td>\n",
       "    </tr>\n",
       "    <tr>\n",
       "      <th>12794</th>\n",
       "      <td>0.0</td>\n",
       "      <td>0.0</td>\n",
       "      <td>0.0</td>\n",
       "      <td>0.0</td>\n",
       "      <td>111</td>\n",
       "      <td>4</td>\n",
       "      <td>4</td>\n",
       "      <td>2012</td>\n",
       "    </tr>\n",
       "    <tr>\n",
       "      <th>9939</th>\n",
       "      <td>0.0</td>\n",
       "      <td>0.0</td>\n",
       "      <td>0.0</td>\n",
       "      <td>0.0</td>\n",
       "      <td>174</td>\n",
       "      <td>6</td>\n",
       "      <td>6</td>\n",
       "      <td>2013</td>\n",
       "    </tr>\n",
       "    <tr>\n",
       "      <th>12582</th>\n",
       "      <td>0.0</td>\n",
       "      <td>0.0</td>\n",
       "      <td>0.0</td>\n",
       "      <td>0.0</td>\n",
       "      <td>64</td>\n",
       "      <td>5</td>\n",
       "      <td>3</td>\n",
       "      <td>2011</td>\n",
       "    </tr>\n",
       "    <tr>\n",
       "      <th>4108</th>\n",
       "      <td>0.0</td>\n",
       "      <td>0.0</td>\n",
       "      <td>0.0</td>\n",
       "      <td>0.0</td>\n",
       "      <td>262</td>\n",
       "      <td>0</td>\n",
       "      <td>9</td>\n",
       "      <td>2011</td>\n",
       "    </tr>\n",
       "    <tr>\n",
       "      <th>1721</th>\n",
       "      <td>0.0</td>\n",
       "      <td>0.0</td>\n",
       "      <td>0.0</td>\n",
       "      <td>0.0</td>\n",
       "      <td>47</td>\n",
       "      <td>3</td>\n",
       "      <td>2</td>\n",
       "      <td>2012</td>\n",
       "    </tr>\n",
       "  </tbody>\n",
       "</table>\n",
       "<p>3082 rows × 8 columns</p>\n",
       "</div>"
      ],
      "text/plain": [
       "       event_cultural  event_national  event_religious  event_sport  \\\n",
       "1550              0.0             0.0              0.0          0.0   \n",
       "7599              0.0             0.0              1.0          0.0   \n",
       "11780             0.0             0.0              0.0          0.0   \n",
       "4640              0.0             0.0              0.0          0.0   \n",
       "1483              0.0             1.0              0.0          0.0   \n",
       "...               ...             ...              ...          ...   \n",
       "12794             0.0             0.0              0.0          0.0   \n",
       "9939              0.0             0.0              0.0          0.0   \n",
       "12582             0.0             0.0              0.0          0.0   \n",
       "4108              0.0             0.0              0.0          0.0   \n",
       "1721              0.0             0.0              0.0          0.0   \n",
       "\n",
       "       day_of_year  day_of_week  month  year  \n",
       "1550             4            4      1  2013  \n",
       "7599            55            6      2  2013  \n",
       "11780          253            6      9  2012  \n",
       "4640             6            1      1  2015  \n",
       "1483           147            0      5  2013  \n",
       "...            ...          ...    ...   ...  \n",
       "12794          111            4      4  2012  \n",
       "9939           174            6      6  2013  \n",
       "12582           64            5      3  2011  \n",
       "4108           262            0      9  2011  \n",
       "1721            47            3      2  2012  \n",
       "\n",
       "[3082 rows x 8 columns]"
      ]
     },
     "execution_count": 328,
     "metadata": {},
     "output_type": "execute_result"
    }
   ],
   "source": [
    "x_test"
   ]
  },
  {
   "cell_type": "code",
   "execution_count": 329,
   "metadata": {},
   "outputs": [
    {
     "data": {
      "text/plain": [
       "1550      7886.58\n",
       "7599     10993.35\n",
       "11780     5286.88\n",
       "4640      7059.04\n",
       "1483     13232.82\n",
       "           ...   \n",
       "12794     4252.80\n",
       "9939     10258.36\n",
       "12582     5566.16\n",
       "4108     13376.16\n",
       "1721      6430.20\n",
       "Name: revenue, Length: 3082, dtype: float64"
      ]
     },
     "execution_count": 329,
     "metadata": {},
     "output_type": "execute_result"
    }
   ],
   "source": [
    "y_test"
   ]
  },
  {
   "cell_type": "code",
   "execution_count": 330,
   "metadata": {},
   "outputs": [],
   "source": [
    "y_pred = rf.predict(x_test)"
   ]
  },
  {
   "cell_type": "code",
   "execution_count": 331,
   "metadata": {},
   "outputs": [
    {
     "data": {
      "text/plain": [
       "3204.5548005387946"
      ]
     },
     "execution_count": 331,
     "metadata": {},
     "output_type": "execute_result"
    }
   ],
   "source": [
    "## RMSE evaluation\n",
    "from sklearn.metrics import mean_squared_error\n",
    "rmse = mean_squared_error(y_test, y_pred, squared=False)\n",
    "rmse"
   ]
  },
  {
   "cell_type": "code",
   "execution_count": 332,
   "metadata": {},
   "outputs": [
    {
     "data": {
      "text/plain": [
       "0.23463326922257166"
      ]
     },
     "execution_count": 332,
     "metadata": {},
     "output_type": "execute_result"
    }
   ],
   "source": [
    "# r2 score\n",
    "from sklearn.metrics import r2_score\n",
    "r2_score(y_test, y_pred)"
   ]
  }
 ],
 "metadata": {
  "kernelspec": {
   "display_name": "Python 3",
   "language": "python",
   "name": "python3"
  },
  "language_info": {
   "codemirror_mode": {
    "name": "ipython",
    "version": 3
   },
   "file_extension": ".py",
   "mimetype": "text/x-python",
   "name": "python",
   "nbconvert_exporter": "python",
   "pygments_lexer": "ipython3",
   "version": "3.11.5"
  }
 },
 "nbformat": 4,
 "nbformat_minor": 2
}
